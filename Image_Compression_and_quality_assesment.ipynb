{
  "nbformat": 4,
  "nbformat_minor": 0,
  "metadata": {
    "colab": {
      "name": "Image Compression and quality assesment.ipynb",
      "provenance": []
    },
    "kernelspec": {
      "name": "python3",
      "display_name": "Python 3"
    },
    "language_info": {
      "name": "python"
    }
  },
  "cells": [
    {
      "cell_type": "markdown",
      "source": [
        "Dependencies and Libraries\n",
        "\n",
        "\n",
        "\n"
      ],
      "metadata": {
        "id": "0mxqYCYlA5H4"
      }
    },
    {
      "cell_type": "code",
      "execution_count": 1,
      "metadata": {
        "id": "ZJYLAgsagwG4"
      },
      "outputs": [],
      "source": [
        "import numpy\n",
        "from PIL import Image"
      ]
    },
    {
      "cell_type": "code",
      "source": [
        "!wget https://d8it4huxumps7.cloudfront.net/files/62babe062492f_images.zip  ##Source for the image dataset(Here 15 High Quality images)"
      ],
      "metadata": {
        "colab": {
          "base_uri": "https://localhost:8080/"
        },
        "id": "Abib4XMhgw7f",
        "outputId": "ac5d06b2-5541-46e8-dd90-5162815479e3"
      },
      "execution_count": 2,
      "outputs": [
        {
          "output_type": "stream",
          "name": "stdout",
          "text": [
            "--2022-07-03 06:24:33--  https://d8it4huxumps7.cloudfront.net/files/62babe062492f_images.zip\n",
            "Resolving d8it4huxumps7.cloudfront.net (d8it4huxumps7.cloudfront.net)... 108.159.224.34, 108.159.224.182, 108.159.224.42, ...\n",
            "Connecting to d8it4huxumps7.cloudfront.net (d8it4huxumps7.cloudfront.net)|108.159.224.34|:443... connected.\n",
            "HTTP request sent, awaiting response... 200 OK\n",
            "Length: 72470683 (69M) [application/zip]\n",
            "Saving to: ‘62babe062492f_images.zip’\n",
            "\n",
            "62babe062492f_image 100%[===================>]  69.11M  89.2MB/s    in 0.8s    \n",
            "\n",
            "2022-07-03 06:24:33 (89.2 MB/s) - ‘62babe062492f_images.zip’ saved [72470683/72470683]\n",
            "\n"
          ]
        }
      ]
    },
    {
      "cell_type": "code",
      "source": [
        "!unzip 62babe062492f_images.zip -d data"
      ],
      "metadata": {
        "colab": {
          "base_uri": "https://localhost:8080/"
        },
        "id": "nIYcc04Agy0J",
        "outputId": "e432e3bc-4727-49d0-d62b-ae6eb78be6f1"
      },
      "execution_count": 3,
      "outputs": [
        {
          "output_type": "stream",
          "name": "stdout",
          "text": [
            "Archive:  62babe062492f_images.zip\n",
            "   creating: data/Images/\n",
            "  inflating: data/__MACOSX/._Images  \n",
            "  inflating: data/Images/.DS_Store   \n",
            "  inflating: data/__MACOSX/Images/._.DS_Store  \n",
            "  inflating: data/Images/sample13.jpg  \n",
            "  inflating: data/__MACOSX/Images/._sample13.jpg  \n",
            "  inflating: data/Images/sample12.jpg  \n",
            "  inflating: data/__MACOSX/Images/._sample12.jpg  \n",
            "  inflating: data/Images/sample10.jpg  \n",
            "  inflating: data/__MACOSX/Images/._sample10.jpg  \n",
            "  inflating: data/Images/sample11.jpg  \n",
            "  inflating: data/__MACOSX/Images/._sample11.jpg  \n",
            "  inflating: data/Images/sample9.jpg  \n",
            "  inflating: data/__MACOSX/Images/._sample9.jpg  \n",
            "  inflating: data/Images/sample15.jpg  \n",
            "  inflating: data/__MACOSX/Images/._sample15.jpg  \n",
            "  inflating: data/Images/sample14.jpg  \n",
            "  inflating: data/__MACOSX/Images/._sample14.jpg  \n",
            "  inflating: data/Images/sample8.jpg  \n",
            "  inflating: data/__MACOSX/Images/._sample8.jpg  \n",
            "  inflating: data/Images/sample6.jpg  \n",
            "  inflating: data/__MACOSX/Images/._sample6.jpg  \n",
            "  inflating: data/Images/sample7.jpg  \n",
            "  inflating: data/__MACOSX/Images/._sample7.jpg  \n",
            "  inflating: data/Images/sample5.jpg  \n",
            "  inflating: data/__MACOSX/Images/._sample5.jpg  \n",
            "  inflating: data/Images/sample4.jpg  \n",
            "  inflating: data/__MACOSX/Images/._sample4.jpg  \n",
            "  inflating: data/Images/sample1.jpg  \n",
            "  inflating: data/__MACOSX/Images/._sample1.jpg  \n",
            "  inflating: data/Images/sample3.jpg  \n",
            "  inflating: data/__MACOSX/Images/._sample3.jpg  \n",
            "  inflating: data/Images/sample2.jpg  \n",
            "  inflating: data/__MACOSX/Images/._sample2.jpg  \n"
          ]
        }
      ]
    },
    {
      "cell_type": "code",
      "source": [
        "!pip install image-quality"
      ],
      "metadata": {
        "colab": {
          "base_uri": "https://localhost:8080/"
        },
        "id": "cdPKGIwB7uEk",
        "outputId": "c49de566-d28c-44fd-ebe5-29a3fec4cc0d"
      },
      "execution_count": 51,
      "outputs": [
        {
          "output_type": "stream",
          "name": "stdout",
          "text": [
            "Looking in indexes: https://pypi.org/simple, https://us-python.pkg.dev/colab-wheels/public/simple/\n",
            "Collecting image-quality\n",
            "  Downloading image_quality-1.2.7-py3-none-any.whl (146 kB)\n",
            "\u001b[K     |████████████████████████████████| 146 kB 5.5 MB/s \n",
            "\u001b[?25hRequirement already satisfied: scikit-image>=0.15.0 in /usr/local/lib/python3.7/dist-packages (from image-quality) (0.18.3)\n",
            "Requirement already satisfied: scipy>=1.3.0 in /usr/local/lib/python3.7/dist-packages (from image-quality) (1.4.1)\n",
            "Requirement already satisfied: numpy>=1.16.4 in /usr/local/lib/python3.7/dist-packages (from image-quality) (1.21.6)\n",
            "Requirement already satisfied: Pillow>=5.2.0 in /usr/local/lib/python3.7/dist-packages (from image-quality) (7.1.2)\n",
            "Requirement already satisfied: libsvm>=3.23.0 in /usr/local/lib/python3.7/dist-packages (from image-quality) (3.23.0.4)\n",
            "Requirement already satisfied: networkx>=2.0 in /usr/local/lib/python3.7/dist-packages (from scikit-image>=0.15.0->image-quality) (2.6.3)\n",
            "Requirement already satisfied: PyWavelets>=1.1.1 in /usr/local/lib/python3.7/dist-packages (from scikit-image>=0.15.0->image-quality) (1.3.0)\n",
            "Requirement already satisfied: matplotlib!=3.0.0,>=2.0.0 in /usr/local/lib/python3.7/dist-packages (from scikit-image>=0.15.0->image-quality) (3.2.2)\n",
            "Requirement already satisfied: imageio>=2.3.0 in /usr/local/lib/python3.7/dist-packages (from scikit-image>=0.15.0->image-quality) (2.4.1)\n",
            "Requirement already satisfied: tifffile>=2019.7.26 in /usr/local/lib/python3.7/dist-packages (from scikit-image>=0.15.0->image-quality) (2021.11.2)\n",
            "Requirement already satisfied: kiwisolver>=1.0.1 in /usr/local/lib/python3.7/dist-packages (from matplotlib!=3.0.0,>=2.0.0->scikit-image>=0.15.0->image-quality) (1.4.3)\n",
            "Requirement already satisfied: python-dateutil>=2.1 in /usr/local/lib/python3.7/dist-packages (from matplotlib!=3.0.0,>=2.0.0->scikit-image>=0.15.0->image-quality) (2.8.2)\n",
            "Requirement already satisfied: pyparsing!=2.0.4,!=2.1.2,!=2.1.6,>=2.0.1 in /usr/local/lib/python3.7/dist-packages (from matplotlib!=3.0.0,>=2.0.0->scikit-image>=0.15.0->image-quality) (3.0.9)\n",
            "Requirement already satisfied: cycler>=0.10 in /usr/local/lib/python3.7/dist-packages (from matplotlib!=3.0.0,>=2.0.0->scikit-image>=0.15.0->image-quality) (0.11.0)\n",
            "Requirement already satisfied: typing-extensions in /usr/local/lib/python3.7/dist-packages (from kiwisolver>=1.0.1->matplotlib!=3.0.0,>=2.0.0->scikit-image>=0.15.0->image-quality) (4.1.1)\n",
            "Requirement already satisfied: six>=1.5 in /usr/local/lib/python3.7/dist-packages (from python-dateutil>=2.1->matplotlib!=3.0.0,>=2.0.0->scikit-image>=0.15.0->image-quality) (1.15.0)\n",
            "Installing collected packages: image-quality\n",
            "Successfully installed image-quality-1.2.7\n"
          ]
        }
      ]
    },
    {
      "cell_type": "code",
      "source": [
        "import imquality.brisque as brisque\n",
        "from skimage import io, img_as_float"
      ],
      "metadata": {
        "id": "TJLwttQsutur"
      },
      "execution_count": 53,
      "outputs": []
    },
    {
      "cell_type": "markdown",
      "source": [
        "**Image** **Quality** **Assessment** **Using** **Brisque**"
      ],
      "metadata": {
        "id": "Z0TkW3-WBB0F"
      }
    },
    {
      "cell_type": "code",
      "source": [
        "img = img_as_float(io.imread('/content/data/Images/sample1.jpg', as_gray=True))\n",
        "score=brisque.score(img)\n",
        "print(score)"
      ],
      "metadata": {
        "colab": {
          "base_uri": "https://localhost:8080/"
        },
        "id": "VeR_lmwX8JMf",
        "outputId": "0b9f66ec-a1c0-40fe-a73b-3b6452e2f09c"
      },
      "execution_count": 54,
      "outputs": [
        {
          "output_type": "stream",
          "name": "stderr",
          "text": [
            "/usr/local/lib/python3.7/dist-packages/imquality/brisque.py:45: FutureWarning: The behavior of rgb2gray will change in scikit-image 0.19. Currently, rgb2gray allows 2D grayscale image to be passed as inputs and leaves them unmodified as outputs. Starting from version 0.19, 2D arrays will be treated as 1D images with 3 channels.\n",
            "  self.image = skimage.color.rgb2gray(self.image)\n",
            "/usr/local/lib/python3.7/dist-packages/imquality/brisque.py:45: FutureWarning: The behavior of rgb2gray will change in scikit-image 0.19. Currently, rgb2gray allows 2D grayscale image to be passed as inputs and leaves them unmodified as outputs. Starting from version 0.19, 2D arrays will be treated as 1D images with 3 channels.\n",
            "  self.image = skimage.color.rgb2gray(self.image)\n"
          ]
        },
        {
          "output_type": "stream",
          "name": "stdout",
          "text": [
            "19.83849943878849\n"
          ]
        }
      ]
    },
    {
      "cell_type": "markdown",
      "source": [
        "**Image** **Compression**\n",
        "\n",
        "Using SVD For image compression\n",
        "If A is the matrix of the original image then using SVD we have\n",
        "A=UEV\n",
        "U= unitary matrix\n",
        "E= Rectangular Diagonal Matrix\n",
        "V= Unitary Matrix"
      ],
      "metadata": {
        "id": "zKb47DHWuvdr"
      }
    },
    {
      "cell_type": "code",
      "source": [
        "def openImage(imagePath):\n",
        "    imOrig = Image.open(imagePath)\n",
        "    im = numpy.array(imOrig)\n",
        "\n",
        "    aRed = im[:, :, 0]\n",
        "    aGreen = im[:, :, 1]\n",
        "    aBlue = im[:, :, 2]\n",
        "\n",
        "    return [aRed, aGreen, aBlue, imOrig]"
      ],
      "metadata": {
        "id": "lhACfVNTgz8W"
      },
      "execution_count": 18,
      "outputs": []
    },
    {
      "cell_type": "code",
      "source": [
        "def compressSingleChannel(channelDataMatrix, singularValuesLimit):\n",
        "    uChannel, sChannel, vhChannel = numpy.linalg.svd(channelDataMatrix)\n",
        "    aChannelCompressed = numpy.zeros((channelDataMatrix.shape[0], channelDataMatrix.shape[1]))\n",
        "    k = singularValuesLimit\n",
        "\n",
        "    leftSide = numpy.matmul(uChannel[:, 0:k], numpy.diag(sChannel)[0:k, 0:k])\n",
        "    aChannelCompressedInner = numpy.matmul(leftSide, vhChannel[0:k, :])\n",
        "    aChannelCompressed = aChannelCompressedInner.astype('uint8')\n",
        "    return aChannelCompressed"
      ],
      "metadata": {
        "id": "BB0KkJxcj53j"
      },
      "execution_count": 19,
      "outputs": []
    },
    {
      "cell_type": "code",
      "source": [
        "aRed, aGreen, aBlue, originalImage = openImage('/content/data/Images/sample10.jpg') ##Enter The Path of your Image(One At a time)"
      ],
      "metadata": {
        "id": "jgngS43mj7xH"
      },
      "execution_count": 20,
      "outputs": []
    },
    {
      "cell_type": "code",
      "source": [
        "imageWidth = 512\n",
        "imageHeight = 512"
      ],
      "metadata": {
        "id": "lfpQSyK_j_c4"
      },
      "execution_count": 21,
      "outputs": []
    },
    {
      "cell_type": "code",
      "source": [
        "singularValuesLimit = 160"
      ],
      "metadata": {
        "id": "sXN4mzkakEoB"
      },
      "execution_count": 22,
      "outputs": []
    },
    {
      "cell_type": "code",
      "source": [
        "aRedCompressed = compressSingleChannel(aRed, singularValuesLimit)\n",
        "aGreenCompressed = compressSingleChannel(aGreen, singularValuesLimit)\n",
        "aBlueCompressed = compressSingleChannel(aBlue, singularValuesLimit)"
      ],
      "metadata": {
        "id": "kcMwcsrLkH3P"
      },
      "execution_count": 23,
      "outputs": []
    },
    {
      "cell_type": "code",
      "source": [
        "imr = Image.fromarray(aRedCompressed, mode=None)\n",
        "img = Image.fromarray(aGreenCompressed, mode=None)\n",
        "imb = Image.fromarray(aBlueCompressed, mode=None)\n"
      ],
      "metadata": {
        "id": "sgRJ6nZqkP1s"
      },
      "execution_count": 24,
      "outputs": []
    },
    {
      "cell_type": "code",
      "source": [
        "newImage = Image.merge(\"RGB\", (imr, img, imb))\n",
        "newImage.save('/content/compressed/new10.jpg')"
      ],
      "metadata": {
        "id": "V6EFjU7ZkUPF"
      },
      "execution_count": 25,
      "outputs": []
    },
    {
      "cell_type": "code",
      "source": [
        "mr = imageHeight\n",
        "mc = imageWidth"
      ],
      "metadata": {
        "id": "-CQBaoZck41A"
      },
      "execution_count": 26,
      "outputs": []
    },
    {
      "cell_type": "code",
      "source": [
        "originalSize = mr * mc * 3\n",
        "compressedSize = singularValuesLimit * (1 + mr + mc) * 3"
      ],
      "metadata": {
        "id": "DhYIMlUak6nX"
      },
      "execution_count": 27,
      "outputs": []
    },
    {
      "cell_type": "markdown",
      "source": [
        "**Image Size Comparrison of Both the images**"
      ],
      "metadata": {
        "id": "VDmYwVWTBLQE"
      }
    },
    {
      "cell_type": "code",
      "source": [
        "print('original size:')\n",
        "print(originalSize)\n",
        "\n",
        "print('compressed size:')\n",
        "print(compressedSize)\n",
        "\n",
        "print('Ratio compressed size / original size:')\n",
        "ratio = compressedSize * 1.0 / originalSize\n",
        "print(ratio)\n",
        "\n",
        "print('Compressed image size is ' + str(round(ratio * 100, 2)) + '% of the original image ')"
      ],
      "metadata": {
        "colab": {
          "base_uri": "https://localhost:8080/"
        },
        "id": "CT85Z_Mkk8wE",
        "outputId": "8a9c084b-8630-4692-c608-9bcd41651ab7"
      },
      "execution_count": 28,
      "outputs": [
        {
          "output_type": "stream",
          "name": "stdout",
          "text": [
            "original size:\n",
            "786432\n",
            "compressed size:\n",
            "492000\n",
            "Ratio compressed size / original size:\n",
            "0.6256103515625\n",
            "Compressed image size is 62.56% of the original image \n"
          ]
        }
      ]
    },
    {
      "cell_type": "markdown",
      "source": [
        "**Brisque for the Compressed Image**"
      ],
      "metadata": {
        "id": "ZkJwc-mpBPtW"
      }
    },
    {
      "cell_type": "code",
      "source": [
        "img = img_as_float(io.imread('/content/compressed/new.jpg', as_gray=True))\n",
        "score=brisque.score(img)\n",
        "print(score)"
      ],
      "metadata": {
        "colab": {
          "base_uri": "https://localhost:8080/"
        },
        "id": "lFCzPfCBzkBN",
        "outputId": "d2b8d8b3-9d6e-4952-ab66-65f2a1e2bf16"
      },
      "execution_count": 55,
      "outputs": [
        {
          "output_type": "stream",
          "name": "stderr",
          "text": [
            "/usr/local/lib/python3.7/dist-packages/imquality/brisque.py:45: FutureWarning: The behavior of rgb2gray will change in scikit-image 0.19. Currently, rgb2gray allows 2D grayscale image to be passed as inputs and leaves them unmodified as outputs. Starting from version 0.19, 2D arrays will be treated as 1D images with 3 channels.\n",
            "  self.image = skimage.color.rgb2gray(self.image)\n",
            "/usr/local/lib/python3.7/dist-packages/imquality/brisque.py:45: FutureWarning: The behavior of rgb2gray will change in scikit-image 0.19. Currently, rgb2gray allows 2D grayscale image to be passed as inputs and leaves them unmodified as outputs. Starting from version 0.19, 2D arrays will be treated as 1D images with 3 channels.\n",
            "  self.image = skimage.color.rgb2gray(self.image)\n"
          ]
        },
        {
          "output_type": "stream",
          "name": "stdout",
          "text": [
            "36.05348712342786\n"
          ]
        }
      ]
    },
    {
      "cell_type": "code",
      "source": [
        ""
      ],
      "metadata": {
        "id": "L887pf2p9YCY"
      },
      "execution_count": null,
      "outputs": []
    }
  ]
}